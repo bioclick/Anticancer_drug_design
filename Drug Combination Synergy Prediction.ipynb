{
 "cells": [
  {
   "cell_type": "markdown",
   "metadata": {},
   "source": [
    "# Comprehensive Analysis of Drug Combination Synergy Prediction"
   ]
  },
  {
   "cell_type": "markdown",
   "metadata": {},
   "source": [
    "\n",
    "\n",
    "### Data Gathering\n",
    "The drug combination data used in this study were sourced from DrugComb, DrugCombDB, and SYNERGxDB. The dataset covers 19 tissue types, with the majority of data concentrated in seven types: skin, lung, breast, ovarian, brain, kidney, and colon.\n",
    "\n",
    "### About the Data\n",
    "To evaluate the synergy scores of drug combinations, four different metrics were used:\n",
    "- **ZIP**\n",
    "- **Loewe**\n",
    "- **Bliss**\n",
    "- **HSA**\n",
    "\n",
    "These scores follow a near-normal distribution, mostly falling between -10 and 10, indicating that most drug combinations exhibit additive effects.\n",
    "\n",
    "**Labeling Synergistic Effects:**\n",
    "Fisher's exact test was used to identify drug pairs with synergistic effects. Odds ratios were calculated for pairs of mechanisms of action (MoA) to identify pathway combinations that are more likely to exhibit synergistic effects across different metrics (ZIP, Bliss, HSA, and Loewe). Drug pairs were classified into two groups:\n",
    "- **Synergistic:** Synergy metric > 10\n",
    "- **Non-Synergistic:** Synergy metric ≤ 10\n",
    "\n",
    "### Preprocessing\n",
    "**Feature Extraction:**\n",
    "A comprehensive set of 12,221 pharmaceutical and genomic features was calculated to capture information from both drug chemical structures and cell lines:\n",
    "- **Drug Chemical Descriptors:** RDKit, Mordred\n",
    "- **Chemical Fingerprints:** MACCS, E-state\n",
    "- **Deep Learning Fingerprint:** Infomax\n",
    "- **Genomic Features:** Gene expression, mutation, copy number variation\n",
    "\n",
    "**Feature Removal:**\n",
    "- **Zero-Variance Features:** Eliminated\n",
    "- **Highly Correlated Features:** Features with an absolute Pearson R > 0.9 were removed to prevent model instability and overfitting.\n",
    "\n",
    "**Feature Selection:**\n",
    "Features were selected based on their F-value via ANOVA. The selected feature sets consist of 2,000, 3,000, 4,000, or all features.\n",
    "\n",
    "### Data Splitting\n",
    "To evaluate model performance, the dataset was randomly partitioned into training and testing sets:\n",
    "- **Training Set:** 80% (292,206 pairs)\n",
    "- **Testing Set:** 20% (72,952 pairs)\n",
    "\n",
    "### Hyperparameter Tuning\n",
    "Optimal hyperparameter combinations were selected using grid search with 5-fold cross-validation.\n",
    "\n",
    "### Model Construction\n",
    "After preprocessing and tuning, three tree-based models were trained on the training set:\n",
    "- **Random Forest**\n",
    "- **XGBoost**\n",
    "- **CatBoost**\n",
    "\n",
    "### Model Evaluation\n",
    "Three metrics were used to evaluate model performance:\n",
    "\n",
    "1. **Normalized Mean Squared Error (NMSE)**\n",
    "\n",
    "2. **Pearson Correlation Coefficient (PCC)**\n",
    "\n",
    "3. **Accuracy:**\n"
   ]
  },
  {
   "cell_type": "markdown",
   "metadata": {},
   "source": [
    "#"
   ]
  },
  {
   "cell_type": "markdown",
   "metadata": {},
   "source": [
    "#"
   ]
  },
  {
   "cell_type": "markdown",
   "metadata": {},
   "source": [
    "#"
   ]
  }
 ],
 "metadata": {
  "kernelspec": {
   "display_name": "Python 3.9.7 ('base')",
   "language": "python",
   "name": "python3"
  },
  "language_info": {
   "name": "python",
   "version": "3.9.7"
  },
  "orig_nbformat": 4,
  "vscode": {
   "interpreter": {
    "hash": "160342c7953a61afc41046b16b0c3980f32619647017b2e4d19a6e5c5b62a2a3"
   }
  }
 },
 "nbformat": 4,
 "nbformat_minor": 2
}
